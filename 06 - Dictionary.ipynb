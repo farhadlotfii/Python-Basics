 
 {
 "cells": [
 {
   "attachments": {},
   "cell_type": "markdown",
   "metadata": {},
   "source": [
    "## 6- Dictionary"
   ]
  },
  {
   "cell_type": "code",
   "execution_count": 231,
   "metadata": {},
   "outputs": [
    {
     "data": {
      "text/plain": [
       "{'ali': 15, 'farhad': 23, 'maryam': 19}"
      ]
     },
     "execution_count": 231,
     "metadata": {},
     "output_type": "execute_result"
    }
   ],
   "source": [
    "d = {'ali' : 15, 'farhad' : 23, 'maryam' : 19}\n",
    "d"
   ]
  },
  {
   "cell_type": "code",
   "execution_count": 232,
   "metadata": {},
   "outputs": [
    {
     "data": {
      "text/plain": [
       "23"
      ]
     },
     "execution_count": 232,
     "metadata": {},
     "output_type": "execute_result"
    }
   ],
   "source": [
    "d['farhad']"
   ]
  },
  {
   "cell_type": "code",
   "execution_count": 233,
   "metadata": {},
   "outputs": [
    {
     "data": {
      "text/plain": [
       "'not found'"
      ]
     },
     "execution_count": 233,
     "metadata": {},
     "output_type": "execute_result"
    }
   ],
   "source": [
    "d.get('farhaf', 'not found')"
   ]
  },
  {
   "cell_type": "code",
   "execution_count": 234,
   "metadata": {},
   "outputs": [
    {
     "data": {
      "text/plain": [
       "{'ali': 15, 'farhad': 25, 'maryam': 19}"
      ]
     },
     "execution_count": 234,
     "metadata": {},
     "output_type": "execute_result"
    }
   ],
   "source": [
    "d['farhad'] = 25\n",
    "d"
   ]
  },
  {
   "cell_type": "code",
   "execution_count": 235,
   "metadata": {},
   "outputs": [],
   "source": [
    "d2 = dict(alex = 20 , mia = 15)"
   ]
  },
  {
   "cell_type": "code",
   "execution_count": 236,
   "metadata": {},
   "outputs": [
    {
     "data": {
      "text/plain": [
       "{'ali': 15, 'farhad': 25, 'maryam': 19, 'alex': 20, 'mia': 15}"
      ]
     },
     "execution_count": 236,
     "metadata": {},
     "output_type": "execute_result"
    }
   ],
   "source": [
    "d.update(d2)\n",
    "d"
   ]
  },
  {
   "cell_type": "code",
   "execution_count": 238,
   "metadata": {},
   "outputs": [
    {
     "data": {
      "text/plain": [
       "{'ali': 15, 'farhad': 23, 'maryam': 19, 'alex': 20, 'mia': 15}"
      ]
     },
     "execution_count": 238,
     "metadata": {},
     "output_type": "execute_result"
    }
   ],
   "source": [
    "d = {'ali' : 15, 'farhad' : 23, 'maryam' : 19}\n",
    "d_new = {**d,**d2}\n",
    "d_new"
   ]
  },
  {
   "cell_type": "code",
   "execution_count": 240,
   "metadata": {},
   "outputs": [
    {
     "data": {
      "text/plain": [
       "{'black': 4, 'orange': 5}"
      ]
     },
     "execution_count": 240,
     "metadata": {},
     "output_type": "execute_result"
    }
   ],
   "source": [
    "k = ['black','orange']\n",
    "v = [4,5]\n",
    "\n",
    "dc = dict(zip(k,v))\n",
    "dc"
   ]
  },
  {
   "cell_type": "code",
   "execution_count": 152,
   "metadata": {},
   "outputs": [
    {
     "name": "stdout",
     "output_type": "stream",
     "text": [
      "<class 'dict'>\n",
      "5\n"
     ]
    }
   ],
   "source": [
    "print(type(d))\n",
    "print(len(d))"
   ]
  },
  {
   "cell_type": "code",
   "execution_count": 146,
   "metadata": {},
   "outputs": [
    {
     "data": {
      "text/plain": [
       "['ali', 'farhad', 'maryam', 'alex', 'mia']"
      ]
     },
     "execution_count": 146,
     "metadata": {},
     "output_type": "execute_result"
    }
   ],
   "source": [
    "list(d.keys())"
   ]
  },
  {
   "cell_type": "code",
   "execution_count": 147,
   "metadata": {},
   "outputs": [
    {
     "data": {
      "text/plain": [
       "[15, 25, 19, 20, 15]"
      ]
     },
     "execution_count": 147,
     "metadata": {},
     "output_type": "execute_result"
    }
   ],
   "source": [
    "list(d.values())"
   ]
  },
  {
   "cell_type": "code",
   "execution_count": 148,
   "metadata": {},
   "outputs": [
    {
     "data": {
      "text/plain": [
       "[('ali', 15), ('farhad', 25), ('maryam', 19), ('alex', 20), ('mia', 15)]"
      ]
     },
     "execution_count": 148,
     "metadata": {},
     "output_type": "execute_result"
    }
   ],
   "source": [
    "list(d.items())"
   ]
  },
  {
   "cell_type": "code",
   "execution_count": 149,
   "metadata": {},
   "outputs": [
    {
     "name": "stdout",
     "output_type": "stream",
     "text": [
      "ali --> 15\n",
      "farhad --> 25\n",
      "maryam --> 19\n",
      "alex --> 20\n",
      "mia --> 15\n"
     ]
    }
   ],
   "source": [
    "for i,j in d.items():\n",
    "    print(i,'-->' , j)"
   ]
  },
  {
   "attachments": {},
   "cell_type": "markdown",
   "metadata": {},
   "source": [
    "### 6-2 Dictionary - Methods"
   ]
  },
  {
   "cell_type": "code",
   "execution_count": 161,
   "metadata": {},
   "outputs": [
    {
     "data": {
      "text/plain": [
       "{'ali': 15, 'farhad': 25, 'maryam': 19, 'alex': 20}"
      ]
     },
     "execution_count": 161,
     "metadata": {},
     "output_type": "execute_result"
    }
   ],
   "source": [
    "d.pop('mia')\n",
    "d"
   ]
  },
  {
   "cell_type": "code",
   "execution_count": 162,
   "metadata": {},
   "outputs": [
    {
     "data": {
      "text/plain": [
       "{'ali': 15, 'farhad': 25, 'maryam': 19}"
      ]
     },
     "execution_count": 162,
     "metadata": {},
     "output_type": "execute_result"
    }
   ],
   "source": [
    "d.popitem()\n",
    "d"
   ]
  },
  {
   "cell_type": "code",
   "execution_count": 164,
   "metadata": {},
   "outputs": [
    {
     "data": {
      "text/plain": [
       "{}"
      ]
     },
     "execution_count": 164,
     "metadata": {},
     "output_type": "execute_result"
    }
   ],
   "source": [
    "d.clear()\n",
    "d"
   ]
  },
  {
   "cell_type": "code",
   "execution_count": 165,
   "metadata": {},
   "outputs": [
    {
     "ename": "NameError",
     "evalue": "name 'd' is not defined",
     "output_type": "error",
     "traceback": [
      "\u001b[1;31m---------------------------------------------------------------------------\u001b[0m",
      "\u001b[1;31mNameError\u001b[0m                                 Traceback (most recent call last)",
      "\u001b[1;32m<ipython-input-165-15bbbc0bb31c>\u001b[0m in \u001b[0;36m<module>\u001b[1;34m\u001b[0m\n\u001b[0;32m      1\u001b[0m \u001b[1;32mdel\u001b[0m \u001b[0md\u001b[0m\u001b[1;33m\u001b[0m\u001b[1;33m\u001b[0m\u001b[0m\n\u001b[1;32m----> 2\u001b[1;33m \u001b[0md\u001b[0m\u001b[1;33m\u001b[0m\u001b[1;33m\u001b[0m\u001b[0m\n\u001b[0m",
      "\u001b[1;31mNameError\u001b[0m: name 'd' is not defined"
     ]
    }
   ],
   "source": [
    "del d\n",
    "d"
   ]
  },
  {
   "cell_type": "code",
   "execution_count": 172,
   "metadata": {},
   "outputs": [
    {
     "data": {
      "text/plain": [
       "{'a': 2, 'b': 4, 'c': 3, 'f': 2, 'g': 2}"
      ]
     },
     "execution_count": 172,
     "metadata": {},
     "output_type": "execute_result"
    }
   ],
   "source": [
    "ls = ['a','b','b','b','c','c','f','g','f','g','a','c','b']\n",
    "di = {}\n",
    "for i in ls:\n",
    "    if i not in di:\n",
    "        di[i] = 1\n",
    "    else:\n",
    "        di[i] += 1\n",
    "di"
   ]
  },
  {
   "cell_type": "code",
   "execution_count": 175,
   "metadata": {},
   "outputs": [
    {
     "data": {
      "text/plain": [
       "{'a': 2, 'b': 4, 'c': 3, 'f': 2, 'g': 2}"
      ]
     },
     "execution_count": 175,
     "metadata": {},
     "output_type": "execute_result"
    }
   ],
   "source": [
    "# better way\n",
    "di = {}\n",
    "for i in ls:\n",
    "    di[i] = di.get(i,0) + 1\n",
    "di"
   ]
  },
  {
   "cell_type": "code",
   "execution_count": 177,
   "metadata": {},
   "outputs": [
    {
     "data": {
      "text/plain": [
       "{'a': 2, 'b': 4, 'c': 3, 'f': 2, 'g': 2}"
      ]
     },
     "execution_count": 177,
     "metadata": {},
     "output_type": "execute_result"
    }
   ],
   "source": [
    "di2 = di.copy()\n",
    "di2"
   ]
  },
  {
   "cell_type": "code",
   "execution_count": 182,
   "metadata": {},
   "outputs": [
    {
     "data": {
      "text/plain": [
       "{'hello': 1,\n",
       " 'I': 2,\n",
       " 'want': 1,\n",
       " 'to': 1,\n",
       " 'learn': 1,\n",
       " 'python': 1,\n",
       " 'and': 1,\n",
       " 'now': 1,\n",
       " 'have': 1,\n",
       " 'learned': 1,\n",
       " 'Dictionary': 1}"
      ]
     },
     "execution_count": 182,
     "metadata": {},
     "output_type": "execute_result"
    }
   ],
   "source": [
    "txt = \"hello I want to learn python and now I have learned Dictionary\"\n",
    "words = txt.split()\n",
    "wc = {}\n",
    "for w in words :\n",
    "    wc[w] = wc.get(w,0) + 1 \n",
    "wc"
   ]
  },
  {
   "cell_type": "code",
   "execution_count": 186,
   "metadata": {},
   "outputs": [
    {
     "name": "stdout",
     "output_type": "stream",
     "text": [
      "12\n",
      "12\n"
     ]
    }
   ],
   "source": [
    "c = 0\n",
    "for i in wc.values():\n",
    "    c += i\n",
    "print(c)\n",
    "# better way\n",
    "print(sum(wc.values()))"
   ]
  },
  {
   "cell_type": "code",
   "execution_count": 193,
   "metadata": {},
   "outputs": [
    {
     "data": {
      "text/plain": [
       "[('I', 2),\n",
       " ('hello', 1),\n",
       " ('want', 1),\n",
       " ('to', 1),\n",
       " ('learn', 1),\n",
       " ('python', 1),\n",
       " ('and', 1),\n",
       " ('now', 1),\n",
       " ('have', 1),\n",
       " ('learned', 1),\n",
       " ('Dictionary', 1)]"
      ]
     },
     "execution_count": 193,
     "metadata": {},
     "output_type": "execute_result"
    }
   ],
   "source": [
    "# sort\n",
    "import operator\n",
    "k = operator.itemgetter(1)\n",
    "sorted(wc.items(), key=k , reverse=True)\n"
   ]
  },
  {
   "cell_type": "code",
   "execution_count": 223,
   "metadata": {},
   "outputs": [
    {
     "data": {
      "text/plain": [
       "{'amir': [14, 11, 16],\n",
       " 'omid': [15, 17, 10],\n",
       " 'vahid': [10, 8, 12],\n",
       " 'sara': [18, 16, 17]}"
      ]
     },
     "execution_count": 223,
     "metadata": {},
     "output_type": "execute_result"
    }
   ],
   "source": [
    "num = {\n",
    "    'amir' : [14,11,16],\n",
    "    'omid' : [15,17,10],\n",
    "    'vahid' : [10,8,12],\n",
    "    'sara' : [18,16,17],\n",
    "}\n",
    "num"
   ]
  },
  {
   "cell_type": "code",
   "execution_count": 227,
   "metadata": {},
   "outputs": [
    {
     "data": {
      "text/plain": [
       "{'amir': [11, 14, 16],\n",
       " 'omid': [10, 15, 17],\n",
       " 'vahid': [8, 10, 12],\n",
       " 'sara': [16, 17, 18]}"
      ]
     },
     "execution_count": 227,
     "metadata": {},
     "output_type": "execute_result"
    }
   ],
   "source": [
    "d = {}\n",
    "for i in num.items():\n",
    "    d[i[0]]=sorted(i[1])\n",
    "d"
   ]
  },
  {
   "cell_type": "code",
   "execution_count": 226,
   "metadata": {},
   "outputs": [
    {
     "data": {
      "text/plain": [
       "{'amir': [11, 14, 16],\n",
       " 'omid': [10, 15, 17],\n",
       " 'vahid': [8, 10, 12],\n",
       " 'sara': [16, 17, 18]}"
      ]
     },
     "execution_count": 226,
     "metadata": {},
     "output_type": "execute_result"
    }
   ],
   "source": [
    "# better way\n",
    "{ k : sorted(v) for k,v in num.items() }"
   ]
  },
  {
   "cell_type": "code",
   "execution_count": 248,
   "metadata": {},
   "outputs": [
    {
     "data": {
      "text/plain": [
       "{'h': 13, 't': 7}"
      ]
     },
     "execution_count": 248,
     "metadata": {},
     "output_type": "execute_result"
    }
   ],
   "source": [
    "d = {\n",
    "    'h':0,\n",
    "    't':0\n",
    "}\n",
    "\n",
    "import random\n",
    "\n",
    "for i in range(20):\n",
    "    d[random.choice(list(d.keys()))] += 1\n",
    "\n",
    "d"
   ]
  },
  {
   "cell_type": "code",
   "execution_count": 259,
   "metadata": {},
   "outputs": [
    {
     "name": "stdout",
     "output_type": "stream",
     "text": [
      "2\n"
     ]
    }
   ],
   "source": [
    "names = [\n",
    "    {'id':112, 'name':'farhad', 'math':True},\n",
    "    {'id':456, 'name':'ali', 'math':False},\n",
    "    {'id':954, 'name':'farzad', 'math':True}\n",
    "    ]\n",
    "\n",
    "print(sum(i['math'] for i in names))"
   ]
  },
  {
   "cell_type": "code",
   "execution_count": 261,
   "metadata": {},
   "outputs": [
    {
     "data": {
      "text/plain": [
       "{'brother1': {'name': 'erfan', 'age': 8},\n",
       " 'brother2': {'name': 'farzin', 'age': 18}}"
      ]
     },
     "execution_count": 261,
     "metadata": {},
     "output_type": "execute_result"
    }
   ],
   "source": [
    "# Nested Dict\n",
    "\n",
    "myfamily = {\n",
    "    'brother1': {'name':'erfan', 'age':8},\n",
    "    'brother2' : {'name':'farzin', 'age':18}\n",
    "}\n",
    "myfamily"
   ]
  }
    ],
 "metadata": {
  "kernelspec": {
   "display_name": "base",
   "language": "python",
   "name": "python3"
  },
  "language_info": {
   "codemirror_mode": {
    "name": "ipython",
    "version": 3
   },
   "file_extension": ".py",
   "mimetype": "text/x-python",
   "name": "python",
   "nbconvert_exporter": "python",
   "pygments_lexer": "ipython3",
   "version": "3.8.5"
  },
  "orig_nbformat": 4
 },
 "nbformat": 4,
 "nbformat_minor": 2
}
