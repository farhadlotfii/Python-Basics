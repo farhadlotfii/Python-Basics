
{
 "cells": [
{
   "attachments": {},
   "cell_type": "markdown",
   "metadata": {},
   "source": [
    "## 2- Control Statement\n",
    "    if\n",
    "    if else\n",
    "    elif"
   ]
  },
  {
   "cell_type": "code",
   "execution_count": 73,
   "metadata": {},
   "outputs": [
    {
     "name": "stdout",
     "output_type": "stream",
     "text": [
      "Your number is --> 5 so is Odd!\n"
     ]
    }
   ],
   "source": [
    "# specification Odd Even\n",
    "num = int(input('enter :'))\n",
    "if num % 2 == 1 :\n",
    "    print(f'Your number is --> {num} so is Odd!')\n",
    "else : \n",
    "    print(f'Your number is --> {num} so is Even!')"
   ]
  },
  {
   "cell_type": "code",
   "execution_count": 74,
   "metadata": {},
   "outputs": [
    {
     "name": "stdout",
     "output_type": "stream",
     "text": [
      "ok\n"
     ]
    }
   ],
   "source": [
    "names = ['farhad','mustafa','mehdi','ali']\n",
    "if 'farhad' in names:\n",
    "    print('ok')\n",
    "else:\n",
    "    print('no')"
   ]
  },
  {
   "attachments": {},
   "cell_type": "markdown",
   "metadata": {},
   "source": [
    "### 2-1 control statement - conditional expression"
   ]
  },
  {
   "cell_type": "code",
   "execution_count": 75,
   "metadata": {},
   "outputs": [
    {
     "name": "stdout",
     "output_type": "stream",
     "text": [
      "3\n"
     ]
    }
   ],
   "source": [
    "a = 3\n",
    "b = 7\n",
    "if a < b:\n",
    "    m = a\n",
    "else:\n",
    "    m = b\n",
    "\n",
    "print(m)"
   ]
  },
  {
   "cell_type": "code",
   "execution_count": 76,
   "metadata": {},
   "outputs": [
    {
     "name": "stdout",
     "output_type": "stream",
     "text": [
      "3\n"
     ]
    }
   ],
   "source": [
    "m = a if a < b else b\n",
    "print(m)"
   ]
  },
  {
   "cell_type": "code",
   "execution_count": 77,
   "metadata": {},
   "outputs": [
    {
     "data": {
      "text/plain": [
       "'yes'"
      ]
     },
     "execution_count": 77,
     "metadata": {},
     "output_type": "execute_result"
    }
   ],
   "source": [
    "ls = ['a','e','o','u','i']\n",
    "\n",
    "s = 'yes' if ('a' in ls) else 'no'\n",
    "s"
   ]
  },
  {
   "cell_type": "code",
   "execution_count": 78,
   "metadata": {},
   "outputs": [
    {
     "name": "stdout",
     "output_type": "stream",
     "text": [
      "C\n"
     ]
    }
   ],
   "source": [
    "score = 75\n",
    "if score >= 90:\n",
    "    l = 'A'\n",
    "else:\n",
    "    if score >= 80:\n",
    "        l = 'B'\n",
    "    else:\n",
    "        if score >= 70:\n",
    "            l = 'C'\n",
    "        else:\n",
    "            l = 'D' \n",
    "print(l)"
   ]
  },
  {
   "cell_type": "code",
   "execution_count": 79,
   "metadata": {},
   "outputs": [
    {
     "name": "stdout",
     "output_type": "stream",
     "text": [
      "C\n"
     ]
    }
   ],
   "source": [
    "score = 75\n",
    "if score >= 90:\n",
    "    l = 'A'\n",
    "elif score >= 80:\n",
    "    l = 'B'\n",
    "elif score >= 70:\n",
    "    l = 'C'\n",
    "else:\n",
    "    l = 'D'\n",
    "print(l)"
   ]
  },
  {
   "cell_type": "code",
   "execution_count": 81,
   "metadata": {},
   "outputs": [
    {
     "name": "stdout",
     "output_type": "stream",
     "text": [
      "Father\n"
     ]
    }
   ],
   "source": [
    "age = 47\n",
    "gender = 'M'\n",
    "\n",
    "if age < 18:\n",
    "    if gender == 'M':\n",
    "        print('Son')\n",
    "    else:\n",
    "        print('Daughter')\n",
    "elif age >= 18 and age < 65:\n",
    "    if gender == 'M':\n",
    "        print('Father')\n",
    "    else:\n",
    "        print('Mother')\n",
    "else:\n",
    "    if gender == 'M':\n",
    "        print('GrandFather')\n",
    "    else:\n",
    "        print('GrandMother')"
   ]
  },
  {
   "cell_type": "code",
   "execution_count": 86,
   "metadata": {},
   "outputs": [
    {
     "name": "stdout",
     "output_type": "stream",
     "text": [
      "your bmi is : 27.68166089965398 and your status is : overweight\n"
     ]
    }
   ],
   "source": [
    "w = 80\n",
    "h = 1.70\n",
    "\n",
    "bmi = w / (h ** 2)\n",
    "\n",
    "if bmi < 15 :\n",
    "    c = 'very severaly underweight'\n",
    "elif 15 <= bmi <= 16:\n",
    "    c = 'severaly underweight'\n",
    "elif 16 < bmi <= 18.5:\n",
    "    c = 'underweight'\n",
    "elif 18.5 < bmi <= 25:\n",
    "    c = 'Normal'\n",
    "elif 25 < bmi <= 30:\n",
    "    c = 'overweight'\n",
    "elif 30 < bmi <= 35:\n",
    "    c = 'moderately obese'\n",
    "elif 35 < bmi <= 40:\n",
    "    c = 'severaly obese'\n",
    "elif bmi > 40:\n",
    "    c = 'very severaly obese'\n",
    "\n",
    "print(f'your bmi is : {bmi} and your status is : {c}')"
   ]
  }
  ],
 "metadata": {
  "kernelspec": {
   "display_name": "base",
   "language": "python",
   "name": "python3"
  },
  "language_info": {
   "codemirror_mode": {
    "name": "ipython",
    "version": 3
   },
   "file_extension": ".py",
   "mimetype": "text/x-python",
   "name": "python",
   "nbconvert_exporter": "python",
   "pygments_lexer": "ipython3",
   "version": "3.8.5"
  },
  "orig_nbformat": 4
 },
 "nbformat": 4,
 "nbformat_minor": 2
}