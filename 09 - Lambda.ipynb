{
 "cells": [
  {
   "attachments": {},
   "cell_type": "markdown",
   "metadata": {},
   "source": [
    "### 09 - Lambda"
   ]
  },
  {
   "cell_type": "code",
   "execution_count": 3,
   "metadata": {},
   "outputs": [
    {
     "name": "stdout",
     "output_type": "stream",
     "text": [
      "20\n",
      "20\n"
     ]
    }
   ],
   "source": [
    "def hello_world(n:int) -> int :\n",
    "    return n * 2\n",
    "print(hello_world(10))\n",
    "\n",
    "####################\n",
    "\n",
    "hello_world_lambda = lambda n : n *2\n",
    "print(hello_world_lambda(10))"
   ]
  },
  {
   "cell_type": "code",
   "execution_count": 4,
   "metadata": {},
   "outputs": [
    {
     "data": {
      "text/plain": [
       "(8, 2)"
      ]
     },
     "execution_count": 4,
     "metadata": {},
     "output_type": "execute_result"
    }
   ],
   "source": [
    "add_subtraction = lambda x, y : (x + y, x-y)\n",
    "add_subtraction(5,3)"
   ]
  },
  {
   "attachments": {},
   "cell_type": "markdown",
   "metadata": {},
   "source": [
    "#### Why use Lambda"
   ]
  },
  {
   "cell_type": "code",
   "execution_count": 28,
   "metadata": {},
   "outputs": [
    {
     "name": "stdout",
     "output_type": "stream",
     "text": [
      "7\n"
     ]
    },
    {
     "data": {
      "text/plain": [
       "7"
      ]
     },
     "execution_count": 28,
     "metadata": {},
     "output_type": "execute_result"
    }
   ],
   "source": [
    "# greatest value or key\n",
    "\n",
    "d = {'a':3, 'b':7, 'c':5}\n",
    "\n",
    "# first way\n",
    "print(d[max(d.keys(), key=(lambda k: d[k]))])\n",
    "\n",
    "# second way\n",
    "d[max(d, key=d.get)]"
   ]
  },
  {
   "attachments": {},
   "cell_type": "markdown",
   "metadata": {},
   "source": [
    "##### Map"
   ]
  },
  {
   "cell_type": "code",
   "execution_count": 32,
   "metadata": {},
   "outputs": [
    {
     "name": "stdout",
     "output_type": "stream",
     "text": [
      "['FARHAD', 'SARA']\n",
      "['FARHAD', 'SARA']\n"
     ]
    }
   ],
   "source": [
    "# Upper characters\n",
    "\n",
    "lst = ['farhad', 'sara']\n",
    "\n",
    "# first way\n",
    "u = []\n",
    "for i in lst:\n",
    "    x = i.upper()\n",
    "    u.append(x)\n",
    "print(u)\n",
    "\n",
    "# second way with map (function, sequence)\n",
    "m = map(str.upper, lst)\n",
    "print(list(m))\n"
   ]
  },
  {
   "cell_type": "code",
   "execution_count": 37,
   "metadata": {},
   "outputs": [
    {
     "name": "stdout",
     "output_type": "stream",
     "text": [
      "[('farhad', 15), ('ali', 17)]\n",
      "[('farhad', 15), ('ali', 17)]\n"
     ]
    }
   ],
   "source": [
    "# name scores with zip\n",
    "\n",
    "name = ['farhad','ali']\n",
    "score = [15, 17]\n",
    "\n",
    "# first way\n",
    "print(list(zip(name, score)))\n",
    "\n",
    "# second way\n",
    "print(list(map(lambda x, y: (x,y), name, score)))"
   ]
  },
  {
   "cell_type": "code",
   "execution_count": 39,
   "metadata": {},
   "outputs": [
    {
     "data": {
      "text/plain": [
       "[5, 6]"
      ]
     },
     "execution_count": 39,
     "metadata": {},
     "output_type": "execute_result"
    }
   ],
   "source": [
    "a = [1,3]\n",
    "b = [4,3]\n",
    " \n",
    "f = lambda x, y: x+y\n",
    "list(map(f, a,b))"
   ]
  },
  {
   "cell_type": "code",
   "execution_count": 47,
   "metadata": {},
   "outputs": [
    {
     "data": {
      "text/plain": [
       "[[8, 16], [10, 25], [12, 36]]"
      ]
     },
     "execution_count": 47,
     "metadata": {},
     "output_type": "execute_result"
    }
   ],
   "source": [
    "# multi Funcs\n",
    "\n",
    "def f(x):\n",
    "    return x*2\n",
    "\n",
    "def g(x):\n",
    "    return x**2\n",
    "\n",
    "funcs = [f, g]\n",
    "\n",
    "ls = [4,5,6]\n",
    "\n",
    "[ list(map(lambda a: a(i), funcs))  for i in ls]"
   ]
  },
  {
   "attachments": {},
   "cell_type": "markdown",
   "metadata": {},
   "source": [
    "##### Filter"
   ]
  },
  {
   "cell_type": "code",
   "execution_count": 53,
   "metadata": {},
   "outputs": [
    {
     "data": {
      "text/plain": [
       "[19, 18, 17, 16, 19, 20]"
      ]
     },
     "execution_count": 53,
     "metadata": {},
     "output_type": "execute_result"
    }
   ],
   "source": [
    "# filter scores greater than average\n",
    "\n",
    "scores = [12, 8, 19, 18, 15, 10, 12, 17, 16, 19, 20]\n",
    "average = sum(scores) / len(scores)\n",
    "\n",
    "list(filter(lambda x: x>average, scores))"
   ]
  },
  {
   "cell_type": "code",
   "execution_count": 59,
   "metadata": {},
   "outputs": [
    {
     "data": {
      "text/plain": [
       "['radar', 'damad', 'madam', 'php']"
      ]
     },
     "execution_count": 59,
     "metadata": {},
     "output_type": "execute_result"
    }
   ],
   "source": [
    "lst = ['radar', 'farhad', 'damad', 'madam', 'php', 'sara']\n",
    "palindrome = lambda x: (x == ''.join(reversed(x)))\n",
    "\n",
    "list(filter(palindrome, lst))"
   ]
  },
  {
   "cell_type": "code",
   "execution_count": 60,
   "metadata": {},
   "outputs": [
    {
     "data": {
      "text/plain": [
       "[1, 4, True, 10, 'fa']"
      ]
     },
     "execution_count": 60,
     "metadata": {},
     "output_type": "execute_result"
    }
   ],
   "source": [
    "ls = [1, 4, True, {}, [], '', 10, 'fa']\n",
    "list(filter(None, ls))"
   ]
  },
  {
   "cell_type": "code",
   "execution_count": 61,
   "metadata": {},
   "outputs": [
    {
     "data": {
      "text/plain": [
       "32"
      ]
     },
     "execution_count": 61,
     "metadata": {},
     "output_type": "execute_result"
    }
   ],
   "source": [
    "# reduce\n",
    "\n",
    "from functools import reduce\n",
    "\n",
    "ls = [4, 5, 9, 8, 6]\n",
    "\n",
    "reduce(lambda a,b: a+b , ls)"
   ]
  },
  {
   "cell_type": "code",
   "execution_count": 62,
   "metadata": {},
   "outputs": [
    {
     "data": {
      "text/plain": [
       "[{'id': 1, 'name': 'farhad', 'score': 10},\n",
       " {'id': 4, 'name': 'maryam', 'score': 11},\n",
       " {'id': 8, 'name': 'taha', 'score': 14},\n",
       " {'id': 6, 'name': 'sara', 'score': 17},\n",
       " {'id': 9, 'name': 'yasamin', 'score': 19}]"
      ]
     },
     "execution_count": 62,
     "metadata": {},
     "output_type": "execute_result"
    }
   ],
   "source": [
    "# sort\n",
    "\n",
    "students = [\n",
    "    {'id':1, 'name':'farhad', 'score':10},\n",
    "    {'id':9, 'name':'yasamin', 'score':19},\n",
    "    {'id':4, 'name':'maryam', 'score':11},\n",
    "    {'id':6, 'name':'sara', 'score':17},\n",
    "    {'id':8, 'name':'taha', 'score':14},\n",
    "]\n",
    "\n",
    "f = lambda x: x['score']\n",
    "\n",
    "sorted(students, key=f)"
   ]
  },
  {
   "cell_type": "code",
   "execution_count": 67,
   "metadata": {},
   "outputs": [
    {
     "data": {
      "text/plain": [
       "[(9, 'yasamin', 19),\n",
       " (6, 'sara', 17),\n",
       " (8, 'taha', 14),\n",
       " (4, 'farhad', 11),\n",
       " (1, 'maryam', 11)]"
      ]
     },
     "execution_count": 67,
     "metadata": {},
     "output_type": "execute_result"
    }
   ],
   "source": [
    "students = [\n",
    "    (4, 'farhad', 11),\n",
    "    (9, 'yasamin', 19),\n",
    "    (1, 'maryam', 11),\n",
    "    (6, 'sara', 17),\n",
    "    (8, 'taha', 14),\n",
    "]\n",
    "\n",
    "from operator import itemgetter\n",
    "\n",
    "sorted(students, key=itemgetter(2,0), reverse=True)"
   ]
  },
  {
   "cell_type": "code",
   "execution_count": 68,
   "metadata": {},
   "outputs": [
    {
     "data": {
      "text/plain": [
       "[('a', 3), ('c', 5), ('b', 10)]"
      ]
     },
     "execution_count": 68,
     "metadata": {},
     "output_type": "execute_result"
    }
   ],
   "source": [
    "d = {'a':3, 'b':10, 'c':5}\n",
    "\n",
    "sorted(d.items(), key= lambda x:x[1])"
   ]
  },
  {
   "cell_type": "code",
   "execution_count": null,
   "metadata": {},
   "outputs": [],
   "source": []
  }
 ],
 "metadata": {
  "kernelspec": {
   "display_name": "base",
   "language": "python",
   "name": "python3"
  },
  "language_info": {
   "codemirror_mode": {
    "name": "ipython",
    "version": 3
   },
   "file_extension": ".py",
   "mimetype": "text/x-python",
   "name": "python",
   "nbconvert_exporter": "python",
   "pygments_lexer": "ipython3",
   "version": "3.8.5"
  },
  "orig_nbformat": 4
 },
 "nbformat": 4,
 "nbformat_minor": 2
}
