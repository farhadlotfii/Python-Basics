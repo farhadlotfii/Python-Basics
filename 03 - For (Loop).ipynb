{
 "cells": [
  {
   "attachments": {},
   "cell_type": "markdown",
   "metadata": {},
   "source": [
    "## 3- Loop\n",
    "    for\n",
    "    while"
   ]
  },
  {
   "cell_type": "code",
   "execution_count": 1,
   "metadata": {},
   "outputs": [
    {
     "name": "stdout",
     "output_type": "stream",
     "text": [
      "0 | 1 | 2 | 3 | 4 | 5 | 6 | 7 | 8 | 9 | "
     ]
    }
   ],
   "source": [
    "for i in range(10):\n",
    "    print(i, end = ' | ')"
   ]
  },
  {
   "cell_type": "code",
   "execution_count": 2,
   "metadata": {},
   "outputs": [
    {
     "name": "stdout",
     "output_type": "stream",
     "text": [
      "12 8 4 "
     ]
    }
   ],
   "source": [
    "for i in range(12,1,-4):\n",
    "    print(i , end=' ')"
   ]
  },
  {
   "cell_type": "code",
   "execution_count": 3,
   "metadata": {},
   "outputs": [
    {
     "name": "stdout",
     "output_type": "stream",
     "text": [
      "2\n",
      "4\n",
      "4\n",
      "5\n",
      "2\n"
     ]
    },
    {
     "data": {
      "text/plain": [
       "17"
      ]
     },
     "execution_count": 3,
     "metadata": {},
     "output_type": "execute_result"
    }
   ],
   "source": [
    "s = '24abc45njkdfg2'\n",
    "k = 0\n",
    "for ch in s:\n",
    "    if ch.isdigit() == True:\n",
    "        k += int(ch)\n",
    "        print(ch)\n",
    "k"
   ]
  },
  {
   "cell_type": "code",
   "execution_count": 4,
   "metadata": {},
   "outputs": [
    {
     "name": "stdout",
     "output_type": "stream",
     "text": [
      "29\n",
      "29\n"
     ]
    }
   ],
   "source": [
    "txt = \"hello how are you? I'm farhad\"\n",
    "c = 0\n",
    "for i in txt:\n",
    "    c+=1\n",
    "print(c)\n",
    "print(len(txt))"
   ]
  },
  {
   "attachments": {},
   "cell_type": "markdown",
   "metadata": {},
   "source": [
    "### 3-2 Loop - wordCount"
   ]
  },
  {
   "cell_type": "code",
   "execution_count": 5,
   "metadata": {},
   "outputs": [
    {
     "name": "stdout",
     "output_type": "stream",
     "text": [
      "16 ['h', 'e', 'l', 'o', ' ', 'w', 'a', 'r', 'y', 'u', '?', 'I', \"'\", 'm', 'f', 'd']\n"
     ]
    }
   ],
   "source": [
    "txt = \"hello how are you? I'm farhad\"\n",
    "c = 0\n",
    "ls = []\n",
    "for i in txt:\n",
    "    if i not in ls:\n",
    "        ls.append(i)\n",
    "print(len(ls),ls)"
   ]
  },
  {
   "cell_type": "code",
   "execution_count": 6,
   "metadata": {},
   "outputs": [
    {
     "name": "stdout",
     "output_type": "stream",
     "text": [
      "16 {'r', 'm', 'd', 'u', ' ', 'I', 'w', 'h', 'a', 'f', '?', 'l', 'y', 'o', 'e', \"'\"}\n"
     ]
    }
   ],
   "source": [
    "txt = \"hello how are you? I'm farhad\"\n",
    "se = set()\n",
    "for i in txt:\n",
    "    se.add(i)\n",
    "print(len(se),se)"
   ]
  },
  {
   "cell_type": "code",
   "execution_count": 7,
   "metadata": {},
   "outputs": [
    {
     "name": "stdout",
     "output_type": "stream",
     "text": [
      "{'h': 4, 'e': 3, 'l': 3, 'o': 4, ' ': 6, 'w': 2, 'a': 4, 'r': 3, 'y': 2, 'u': 2, '?': 2, 'I': 2, \"'\": 2, 'm': 2, 'f': 2, 'd': 2}\n"
     ]
    }
   ],
   "source": [
    "txt = \"hello how are you? I'm farhad\"\n",
    "d = {}\n",
    "for i in txt:\n",
    "    if i not in d.keys():\n",
    "        d[i] = 1\n",
    "    if i in d.keys():\n",
    "        d[i] += 1\n",
    "print(d)"
   ]
  },
  {
   "cell_type": "code",
   "execution_count": 8,
   "metadata": {},
   "outputs": [
    {
     "data": {
      "text/plain": [
       "{'Rather': 2,\n",
       " 'than': 2,\n",
       " 'building': 2,\n",
       " 'all': 2,\n",
       " 'of': 4,\n",
       " 'its': 3,\n",
       " 'functionality': 2,\n",
       " 'into': 2,\n",
       " 'core,': 2,\n",
       " 'Python': 2,\n",
       " 'was': 2,\n",
       " 'designed': 2,\n",
       " 'to': 3,\n",
       " 'be': 2,\n",
       " 'highly': 2,\n",
       " 'extensible': 3,\n",
       " 'via': 2,\n",
       " 'modules.': 2,\n",
       " 'This': 2,\n",
       " 'compact': 2,\n",
       " 'modularity': 2,\n",
       " 'has': 2,\n",
       " 'made': 2,\n",
       " 'it': 2,\n",
       " 'particularly': 2,\n",
       " 'popular': 2,\n",
       " 'as': 2,\n",
       " 'a': 4,\n",
       " 'means': 2,\n",
       " 'adding': 2,\n",
       " 'programmable': 2,\n",
       " 'interfaces': 2,\n",
       " 'existing': 2,\n",
       " 'applications.': 2,\n",
       " 'Van': 2,\n",
       " \"Rossum's\": 2,\n",
       " 'vision': 2,\n",
       " 'small': 2,\n",
       " 'core': 2,\n",
       " 'language': 2,\n",
       " 'with': 3,\n",
       " 'large': 2,\n",
       " 'standard': 2,\n",
       " 'library': 2,\n",
       " 'and': 2,\n",
       " 'easily': 2,\n",
       " 'interpreter': 2,\n",
       " 'stemmed': 2,\n",
       " 'from': 2,\n",
       " 'his': 2,\n",
       " 'frustrations': 2,\n",
       " 'ABC,': 2,\n",
       " 'which': 2,\n",
       " 'espoused': 2,\n",
       " 'the': 2,\n",
       " 'opposite': 2,\n",
       " 'approach.': 2}"
      ]
     },
     "execution_count": 8,
     "metadata": {},
     "output_type": "execute_result"
    }
   ],
   "source": [
    "txt = '''Rather than building all of its functionality into its core, Python was designed to be highly extensible via modules. This compact modularity has made it particularly popular as a means of adding programmable interfaces to existing applications. Van Rossum's vision of a small core language with a large standard library and easily extensible interpreter stemmed from his frustrations with ABC, which espoused the opposite approach.'''\n",
    "words = txt.split(' ')\n",
    "d = {}\n",
    "for i in words:\n",
    "    if i not in d.keys():\n",
    "        d[i] = 1\n",
    "    if i in d.keys():\n",
    "        d[i] += 1\n",
    "d"
   ]
  },
  {
   "cell_type": "code",
   "execution_count": 9,
   "metadata": {},
   "outputs": [
    {
     "data": {
      "text/plain": [
       "['a', 'a']"
      ]
     },
     "execution_count": 9,
     "metadata": {},
     "output_type": "execute_result"
    }
   ],
   "source": [
    "name = 'farhad'\n",
    "v = 'aeiou'\n",
    "[ch for ch in name if ch in v]"
   ]
  },
  {
   "attachments": {},
   "cell_type": "markdown",
   "metadata": {},
   "source": [
    "### 3-3 Loop - nested loop"
   ]
  },
  {
   "cell_type": "code",
   "execution_count": 10,
   "metadata": {},
   "outputs": [
    {
     "name": "stdout",
     "output_type": "stream",
     "text": [
      "0 \n",
      "0 1 \n",
      "0 1 2 \n",
      "0 1 2 3 \n",
      "0 1 2 3 4 \n"
     ]
    }
   ],
   "source": [
    "for i in range(1,6):\n",
    "    for j in range(i):\n",
    "        print(j, end=' ')\n",
    "    print()"
   ]
  },
  {
   "cell_type": "code",
   "execution_count": 11,
   "metadata": {},
   "outputs": [
    {
     "name": "stdout",
     "output_type": "stream",
     "text": [
      "1 \n",
      "1 2 \n",
      "1 2 3 \n"
     ]
    }
   ],
   "source": [
    "for i in range(2,5):\n",
    "    for j in range(1,i):\n",
    "        print(j, end=' ')\n",
    "    print()"
   ]
  },
  {
   "cell_type": "code",
   "execution_count": 12,
   "metadata": {},
   "outputs": [
    {
     "name": "stdout",
     "output_type": "stream",
     "text": [
      "0\n",
      "1\n"
     ]
    }
   ],
   "source": [
    "# break\n",
    "\n",
    "for i in range(5):\n",
    "    if i == 2:\n",
    "        break\n",
    "    else:\n",
    "        print(i)\n"
   ]
  },
  {
   "cell_type": "code",
   "execution_count": 13,
   "metadata": {},
   "outputs": [
    {
     "name": "stdout",
     "output_type": "stream",
     "text": [
      "0\n",
      "1\n",
      "3\n",
      "4\n"
     ]
    }
   ],
   "source": [
    "# continue | pass\n",
    "\n",
    "for i in range(5):\n",
    "    if i == 2:\n",
    "        continue\n",
    "    else:\n",
    "        print(i)"
   ]
  },
  {
   "cell_type": "code",
   "execution_count": 14,
   "metadata": {},
   "outputs": [
    {
     "name": "stdout",
     "output_type": "stream",
     "text": [
      "10\n",
      "12\n",
      "14\n"
     ]
    }
   ],
   "source": [
    "for n in range(10,15):\n",
    "    for i in range(2,n):\n",
    "        if n % i == 0:\n",
    "            print(n)\n",
    "            break"
   ]
  },
  {
   "attachments": {},
   "cell_type": "markdown",
   "metadata": {},
   "source": [
    "### 3-4 Loop - While"
   ]
  },
  {
   "cell_type": "code",
   "execution_count": 15,
   "metadata": {},
   "outputs": [
    {
     "name": "stdout",
     "output_type": "stream",
     "text": [
      "1 | 2 | 3 | 4 | 5 | 6 | 7 | 8 | 9 | 10 | "
     ]
    }
   ],
   "source": [
    "i = 1\n",
    "while i <= 10:\n",
    "    print(i, end= ' | ')\n",
    "    i+=1"
   ]
  },
  {
   "cell_type": "code",
   "execution_count": 16,
   "metadata": {},
   "outputs": [
    {
     "name": "stdout",
     "output_type": "stream",
     "text": [
      "a\n",
      "b\n",
      "c\n",
      "d\n",
      "e\n",
      "f\n"
     ]
    }
   ],
   "source": [
    "t = 'abcdefgh'\n",
    "c = 0\n",
    "\n",
    "while True:\n",
    "    if t[c] == 'g':\n",
    "        break\n",
    "    print(t[c])\n",
    "    c += 1"
   ]
  },
  {
   "cell_type": "code",
   "execution_count": 17,
   "metadata": {},
   "outputs": [
    {
     "name": "stdout",
     "output_type": "stream",
     "text": [
      "7\n",
      "6\n",
      "4\n",
      "3\n",
      "2\n"
     ]
    }
   ],
   "source": [
    "n = 8\n",
    "while n > 2:\n",
    "    n-=1\n",
    "    if n==5:\n",
    "        continue\n",
    "    print(n)"
   ]
  },
  {
   "cell_type": "code",
   "execution_count": 18,
   "metadata": {},
   "outputs": [
    {
     "name": "stdout",
     "output_type": "stream",
     "text": [
      "0\n",
      "1\n",
      "1\n",
      "2\n",
      "3\n",
      "5\n",
      "8\n",
      "13\n",
      "21\n",
      "34\n",
      "55\n",
      "89\n"
     ]
    }
   ],
   "source": [
    "# fibonatchi\n",
    "\n",
    "a = 0\n",
    "b = 1\n",
    "while a < 100 :\n",
    "    print(a)\n",
    "    a,b = b, a+b"
   ]
  },
  {
   "cell_type": "code",
   "execution_count": 19,
   "metadata": {},
   "outputs": [
    {
     "name": "stdout",
     "output_type": "stream",
     "text": [
      "1\n",
      "2\n",
      "3\n"
     ]
    }
   ],
   "source": [
    "n = 1\n",
    "while n<=3 : print(n) ; n+=1"
   ]
  },
  {
   "cell_type": "code",
   "execution_count": 20,
   "metadata": {},
   "outputs": [
    {
     "name": "stdout",
     "output_type": "stream",
     "text": [
      "<\n",
      "<\n",
      "<\n",
      "correct\n",
      "Thank you\n"
     ]
    }
   ],
   "source": [
    "# Number guessing game\n",
    "\n",
    "import random\n",
    "n = random.randrange(0,10)\n",
    "f = 'no'\n",
    "\n",
    "while f == 'no':\n",
    "    a = int(input('enter:'))\n",
    "    if a < n :\n",
    "        print('>')\n",
    "    elif a > n :\n",
    "        print('<')\n",
    "    else:\n",
    "        print('correct')\n",
    "        f = 'yes'\n",
    "\n",
    "print('Thank you')\n",
    "\n"
   ]
  }
 ],
 "metadata": {
  "kernelspec": {
   "display_name": "base",
   "language": "python",
   "name": "python3"
  },
  "language_info": {
   "codemirror_mode": {
    "name": "ipython",
    "version": 3
   },
   "file_extension": ".py",
   "mimetype": "text/x-python",
   "name": "python",
   "nbconvert_exporter": "python",
   "pygments_lexer": "ipython3",
   "version": "3.8.5"
  },
  "orig_nbformat": 4
 },
 "nbformat": 4,
 "nbformat_minor": 2
}
