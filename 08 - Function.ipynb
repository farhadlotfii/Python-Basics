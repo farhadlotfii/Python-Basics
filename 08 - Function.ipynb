{
 "cells": [
  {
   "attachments": {},
   "cell_type": "markdown",
   "metadata": {},
   "source": [
    "## 8- Function"
   ]
  },
  {
   "cell_type": "code",
   "execution_count": 1,
   "metadata": {},
   "outputs": [
    {
     "name": "stdout",
     "output_type": "stream",
     "text": [
      "hello guys\n"
     ]
    }
   ],
   "source": [
    "def hello_1():\n",
    "    print('hello guys')\n",
    "    \n",
    "s  = hello_1()\n",
    "s"
   ]
  },
  {
   "cell_type": "code",
   "execution_count": 3,
   "metadata": {},
   "outputs": [],
   "source": [
    "s\n",
    "# just one time show"
   ]
  },
  {
   "cell_type": "code",
   "execution_count": 11,
   "metadata": {},
   "outputs": [
    {
     "data": {
      "text/plain": [
       "'hello guys'"
      ]
     },
     "execution_count": 11,
     "metadata": {},
     "output_type": "execute_result"
    }
   ],
   "source": [
    "def hello_2():\n",
    "    return 'hello guys'\n",
    "\n",
    "s = hello_2()\n",
    "s\n",
    "# return means object"
   ]
  },
  {
   "cell_type": "code",
   "execution_count": 12,
   "metadata": {},
   "outputs": [
    {
     "data": {
      "text/plain": [
       "8"
      ]
     },
     "execution_count": 12,
     "metadata": {},
     "output_type": "execute_result"
    }
   ],
   "source": [
    "def addtwo(a, b):\n",
    "    return a+b\n",
    "\n",
    "d = addtwo(3, 5)\n",
    "d"
   ]
  },
  {
   "cell_type": "code",
   "execution_count": 13,
   "metadata": {},
   "outputs": [
    {
     "name": "stdout",
     "output_type": "stream",
     "text": [
      "8\n",
      "9\n"
     ]
    }
   ],
   "source": [
    "def f(a):\n",
    "    a *= 2\n",
    "    print(a)\n",
    "    return a+1\n",
    "\n",
    "b = 4\n",
    "h = f(b)\n",
    "print(h)"
   ]
  },
  {
   "cell_type": "code",
   "execution_count": 14,
   "metadata": {},
   "outputs": [
    {
     "data": {
      "text/plain": [
       "9"
      ]
     },
     "execution_count": 14,
     "metadata": {},
     "output_type": "execute_result"
    }
   ],
   "source": [
    "def f(x, y):\n",
    "    if x > y:\n",
    "        return x\n",
    "    return y\n",
    "\n",
    "t = f(4, 9)\n",
    "t"
   ]
  },
  {
   "cell_type": "code",
   "execution_count": 15,
   "metadata": {},
   "outputs": [
    {
     "data": {
      "text/plain": [
       "8"
      ]
     },
     "execution_count": 15,
     "metadata": {},
     "output_type": "execute_result"
    }
   ],
   "source": [
    "def g(x, y, z):\n",
    "    return f(x, f(y, z))\n",
    "\n",
    "g(3, 6, 8)"
   ]
  },
  {
   "cell_type": "code",
   "execution_count": 16,
   "metadata": {},
   "outputs": [],
   "source": [
    "PI = 3.14"
   ]
  },
  {
   "cell_type": "code",
   "execution_count": 20,
   "metadata": {},
   "outputs": [
    {
     "name": "stdout",
     "output_type": "stream",
     "text": [
      "50.24\n",
      "25.12\n",
      "----------\n",
      "78.5\n",
      "31.400000000000002\n",
      "----------\n",
      "113.04\n",
      "37.68\n"
     ]
    }
   ],
   "source": [
    "def area(r):\n",
    "    return r ** 2 * PI\n",
    "\n",
    "def circum(r):\n",
    "    return 2 * PI * r\n",
    "\n",
    "def main(r):\n",
    "    print(area(r))\n",
    "    print(circum(r))\n",
    "\n",
    "main(4)\n",
    "print('-'*10)\n",
    "main(5)\n",
    "print('-'*10)\n",
    "main(6)\n",
    " "
   ]
  },
  {
   "cell_type": "code",
   "execution_count": 21,
   "metadata": {},
   "outputs": [
    {
     "name": "stdout",
     "output_type": "stream",
     "text": [
      "local variable is :  3\n",
      "1\n"
     ]
    }
   ],
   "source": [
    "x = 1\n",
    "def f():\n",
    "    x = 3\n",
    "    print('local variable is : ', x)\n",
    "    \n",
    "f()\n",
    "print(x)"
   ]
  },
  {
   "cell_type": "code",
   "execution_count": 22,
   "metadata": {},
   "outputs": [
    {
     "name": "stdout",
     "output_type": "stream",
     "text": [
      "global variable is :  3\n",
      "3\n"
     ]
    }
   ],
   "source": [
    "x = 1\n",
    "def f():\n",
    "    global x\n",
    "    x = 3\n",
    "    print('global variable is : ', x)\n",
    "    \n",
    "f()\n",
    "print(x)"
   ]
  },
  {
   "cell_type": "code",
   "execution_count": 24,
   "metadata": {},
   "outputs": [
    {
     "name": "stdout",
     "output_type": "stream",
     "text": [
      "16 ---------- 3.0\n"
     ]
    }
   ],
   "source": [
    "def f(x , y):\n",
    "    x = x ** 2\n",
    "    y = y / 2\n",
    "    return x, y\n",
    "\n",
    "a, b = f(4, 6)\n",
    "print(a,'-'*10 ,b)"
   ]
  },
  {
   "cell_type": "code",
   "execution_count": 29,
   "metadata": {},
   "outputs": [
    {
     "data": {
      "text/plain": [
       "[5, 8]"
      ]
     },
     "execution_count": 29,
     "metadata": {},
     "output_type": "execute_result"
    }
   ],
   "source": [
    "def f(ls):\n",
    "    ls[0] -= 1\n",
    "    ls[1] += 1\n",
    "    \n",
    "f([6, 7])\n",
    "ls"
   ]
  },
  {
   "cell_type": "code",
   "execution_count": 31,
   "metadata": {},
   "outputs": [
    {
     "data": {
      "text/plain": [
       "{'x': 4, 'y': 3}"
      ]
     },
     "execution_count": 31,
     "metadata": {},
     "output_type": "execute_result"
    }
   ],
   "source": [
    "def f(d):\n",
    "    d['x'] -= 1\n",
    "    d['y'] += 1\n",
    "    \n",
    "dct = {'x' : 5 , 'y' : 2}\n",
    "f(dct)\n",
    "dct"
   ]
  },
  {
   "attachments": {},
   "cell_type": "markdown",
   "metadata": {},
   "source": [
    "### 8-2 Function Positional Arguments"
   ]
  },
  {
   "cell_type": "code",
   "execution_count": 32,
   "metadata": {},
   "outputs": [
    {
     "name": "stdout",
     "output_type": "stream",
     "text": [
      "4 5\n",
      "4 5\n",
      "4 5\n"
     ]
    }
   ],
   "source": [
    "def f(x, y):\n",
    "    print(x, y)\n",
    "    \n",
    "f(4, 5)\n",
    "f(x = 4, y = 5)\n",
    "f(4, y = 5)"
   ]
  },
  {
   "cell_type": "code",
   "execution_count": 33,
   "metadata": {},
   "outputs": [
    {
     "ename": "TypeError",
     "evalue": "f() got multiple values for argument 'x'",
     "output_type": "error",
     "traceback": [
      "\u001b[1;31m---------------------------------------------------------------------------\u001b[0m",
      "\u001b[1;31mTypeError\u001b[0m                                 Traceback (most recent call last)",
      "\u001b[1;32m<ipython-input-33-90f0a2df0c50>\u001b[0m in \u001b[0;36m<module>\u001b[1;34m\u001b[0m\n\u001b[1;32m----> 1\u001b[1;33m \u001b[0mf\u001b[0m\u001b[1;33m(\u001b[0m\u001b[1;36m4\u001b[0m\u001b[1;33m,\u001b[0m \u001b[0mx\u001b[0m \u001b[1;33m=\u001b[0m \u001b[1;36m5\u001b[0m\u001b[1;33m)\u001b[0m\u001b[1;33m\u001b[0m\u001b[1;33m\u001b[0m\u001b[0m\n\u001b[0m",
      "\u001b[1;31mTypeError\u001b[0m: f() got multiple values for argument 'x'"
     ]
    }
   ],
   "source": [
    "f(4, x = 5)"
   ]
  },
  {
   "cell_type": "code",
   "execution_count": 34,
   "metadata": {},
   "outputs": [
    {
     "name": "stdout",
     "output_type": "stream",
     "text": [
      "5 4\n"
     ]
    }
   ],
   "source": [
    "f(y = 4, x = 5)"
   ]
  },
  {
   "cell_type": "code",
   "execution_count": 35,
   "metadata": {},
   "outputs": [
    {
     "name": "stdout",
     "output_type": "stream",
     "text": [
      "2 4 6\n",
      "2 3 6\n",
      "2 3 4\n",
      "2 4 7\n",
      "4 3 6\n"
     ]
    }
   ],
   "source": [
    "def f(a, b=4, c=6):\n",
    "    print(a, b, c)\n",
    "    \n",
    "f(2)\n",
    "f(2, 3)\n",
    "f(2, 3, 4)\n",
    "f(2, c=7)\n",
    "f(b=3, c=6, a=4)"
   ]
  },
  {
   "cell_type": "code",
   "execution_count": 36,
   "metadata": {},
   "outputs": [
    {
     "ename": "SyntaxError",
     "evalue": "positional argument follows keyword argument (<ipython-input-36-05fc8248ec8c>, line 1)",
     "output_type": "error",
     "traceback": [
      "\u001b[1;36m  File \u001b[1;32m\"<ipython-input-36-05fc8248ec8c>\"\u001b[1;36m, line \u001b[1;32m1\u001b[0m\n\u001b[1;33m    f(1,b=2,5)\u001b[0m\n\u001b[1;37m            ^\u001b[0m\n\u001b[1;31mSyntaxError\u001b[0m\u001b[1;31m:\u001b[0m positional argument follows keyword argument\n"
     ]
    }
   ],
   "source": [
    "f(1,b=2,5)"
   ]
  },
  {
   "cell_type": "code",
   "execution_count": 39,
   "metadata": {},
   "outputs": [
    {
     "name": "stdout",
     "output_type": "stream",
     "text": [
      "5\n",
      "4\n"
     ]
    }
   ],
   "source": [
    "# if you haven't keyword generate error\n",
    "def f(*, a=5):\n",
    "    print(a)\n",
    "    \n",
    "f()\n",
    "f(a=4)"
   ]
  },
  {
   "cell_type": "code",
   "execution_count": 40,
   "metadata": {},
   "outputs": [
    {
     "ename": "TypeError",
     "evalue": "f() takes 0 positional arguments but 1 was given",
     "output_type": "error",
     "traceback": [
      "\u001b[1;31m---------------------------------------------------------------------------\u001b[0m",
      "\u001b[1;31mTypeError\u001b[0m                                 Traceback (most recent call last)",
      "\u001b[1;32m<ipython-input-40-6bd975954245>\u001b[0m in \u001b[0;36m<module>\u001b[1;34m\u001b[0m\n\u001b[1;32m----> 1\u001b[1;33m \u001b[0mf\u001b[0m\u001b[1;33m(\u001b[0m\u001b[1;36m7\u001b[0m\u001b[1;33m)\u001b[0m\u001b[1;33m\u001b[0m\u001b[1;33m\u001b[0m\u001b[0m\n\u001b[0m",
      "\u001b[1;31mTypeError\u001b[0m: f() takes 0 positional arguments but 1 was given"
     ]
    }
   ],
   "source": [
    "f(7)"
   ]
  },
  {
   "cell_type": "code",
   "execution_count": 2,
   "metadata": {},
   "outputs": [
    {
     "name": "stdout",
     "output_type": "stream",
     "text": [
      "9\n",
      "17\n"
     ]
    }
   ],
   "source": [
    "# var argument tuple\n",
    "def f(*t):\n",
    "    s = 0\n",
    "    for i in t:\n",
    "        s += i\n",
    "    print(s)\n",
    "    \n",
    "f(2,3,4) \n",
    "f(2,4,5,6)"
   ]
  },
  {
   "cell_type": "code",
   "execution_count": 7,
   "metadata": {},
   "outputs": [
    {
     "name": "stdout",
     "output_type": "stream",
     "text": [
      "15\n",
      "more var is :  (3, 4, 5)\n"
     ]
    }
   ],
   "source": [
    "def add(a, b, *more):\n",
    "    r = a + b + sum(more)\n",
    "    print(r)\n",
    "    print('more var is : ' , more)\n",
    "    \n",
    "add(1,2,3,4,5)\n",
    "# a=1, b=2, more=(3,4,5) "
   ]
  },
  {
   "cell_type": "code",
   "execution_count": 11,
   "metadata": {},
   "outputs": [
    {
     "name": "stdout",
     "output_type": "stream",
     "text": [
      "farhad-python-sql\n",
      "farhad | python | sql\n"
     ]
    }
   ],
   "source": [
    "def concat(*s, sep = '-'):\n",
    "    return sep.join(s)\n",
    "\n",
    "print(concat('farhad','python','sql'))\n",
    "print(concat('farhad','python','sql',sep=' | '))"
   ]
  },
  {
   "cell_type": "code",
   "execution_count": 12,
   "metadata": {},
   "outputs": [
    {
     "name": "stdout",
     "output_type": "stream",
     "text": [
      "5 6 {'x': 1, 'y': 2, 'z': 2}\n"
     ]
    }
   ],
   "source": [
    "# ** --> key , value (dictionary)\n",
    "\n",
    "def f(a, b, **c):\n",
    "    print(a,b,c)\n",
    "    \n",
    "f(5, 6, x=1, y=2, z=2)"
   ]
  },
  {
   "cell_type": "code",
   "execution_count": 13,
   "metadata": {},
   "outputs": [
    {
     "name": "stdout",
     "output_type": "stream",
     "text": [
      "4 5\n",
      "(8, 9, 6)\n",
      "{'x': 1, 'y': 2, 'z': 2}\n"
     ]
    }
   ],
   "source": [
    "def f(a, b, *c, **d):\n",
    "    print(a,b)\n",
    "    print(c)\n",
    "    print(d)\n",
    "    \n",
    "f( 4,5, 8,9,6, x=1,y=2,z=2 )"
   ]
  },
  {
   "cell_type": "code",
   "execution_count": 19,
   "metadata": {},
   "outputs": [
    {
     "data": {
      "text/plain": [
       "{'U': 2, 'L': 4}"
      ]
     },
     "execution_count": 19,
     "metadata": {},
     "output_type": "execute_result"
    }
   ],
   "source": [
    "def f_count(s):\n",
    "    count_ch = {\n",
    "    'U' : 0,\n",
    "    'L' : 0\n",
    "}\n",
    "    for ch in s:\n",
    "        if ch.islower():\n",
    "            count_ch['L'] += 1\n",
    "        else:\n",
    "            count_ch['U'] += 1\n",
    "            \n",
    "    return count_ch\n",
    "            \n",
    "s = 'FarHad'\n",
    "f_count(s)"
   ]
  },
  {
   "cell_type": "code",
   "execution_count": 21,
   "metadata": {},
   "outputs": [
    {
     "data": {
      "text/plain": [
       "{'a': 6, 's': 5, 'd': 4, 'g': 1, 'f': 2}"
      ]
     },
     "execution_count": 21,
     "metadata": {},
     "output_type": "execute_result"
    }
   ],
   "source": [
    "def cnt_ch(s):\n",
    "    d = {}\n",
    "    for i in s:\n",
    "        if i in d.keys():\n",
    "            d[i] += 1\n",
    "        else:\n",
    "            d[i] = 1\n",
    "    return d\n",
    "\n",
    "cnt_ch('asdsadadasgfsadfas')"
   ]
  },
  {
   "cell_type": "code",
   "execution_count": 23,
   "metadata": {},
   "outputs": [
    {
     "name": "stdout",
     "output_type": "stream",
     "text": [
      "one\n",
      "two\n",
      "nothing\n"
     ]
    }
   ],
   "source": [
    "def switch(a):\n",
    "    d = {1:'one',2:'two'}\n",
    "    return d.get(a, 'nothing')\n",
    "\n",
    "print(switch(1))\n",
    "print(switch(2))\n",
    "print(switch(3))"
   ]
  },
  {
   "cell_type": "code",
   "execution_count": 39,
   "metadata": {},
   "outputs": [],
   "source": [
    "def avg_grade(ls):\n",
    "    ll = []\n",
    "    for i in ls:\n",
    "        avg = ( i['M'] + i['F'] ) / 2\n",
    "        dd = {'id':i['id'], 'avg':avg }\n",
    "        ll.append(dd)\n",
    "    return ll"
   ]
  },
  {
   "cell_type": "code",
   "execution_count": 42,
   "metadata": {},
   "outputs": [
    {
     "data": {
      "text/plain": [
       "[{'id': 1, 'avg': 60.0}, {'id': 2, 'avg': 80.0}, {'id': 3, 'avg': 80.0}]"
      ]
     },
     "execution_count": 42,
     "metadata": {},
     "output_type": "execute_result"
    }
   ],
   "source": [
    "grade_student = [\n",
    "    {\n",
    "        'id':1,\n",
    "        'M':50,\n",
    "        'F':70\n",
    "    },\n",
    "    {\n",
    "        'id':2,\n",
    "        'M':75,\n",
    "        'F':85\n",
    "    },\n",
    "    {\n",
    "        'id':3,\n",
    "        'M':95,\n",
    "        'F':65\n",
    "    }\n",
    "]\n",
    "\n",
    "avg_grade(grade_student)"
   ]
  },
  {
   "cell_type": "code",
   "execution_count": 1,
   "metadata": {},
   "outputs": [
    {
     "data": {
      "text/plain": [
       "'cba'"
      ]
     },
     "execution_count": 1,
     "metadata": {},
     "output_type": "execute_result"
    }
   ],
   "source": [
    "def reverse_string(s):\n",
    "    r = ''.join(reversed(s))\n",
    "    return r\n",
    "\n",
    "reverse_string('abc')    "
   ]
  },
  {
   "cell_type": "code",
   "execution_count": 5,
   "metadata": {},
   "outputs": [
    {
     "name": "stdout",
     "output_type": "stream",
     "text": [
      "True\n",
      "False\n"
     ]
    }
   ],
   "source": [
    "def palindrom(s):\n",
    "    return s == s[::-1]\n",
    "\n",
    "print(palindrom('radar'))\n",
    "print(palindrom('radan'))"
   ]
  },
  {
   "cell_type": "code",
   "execution_count": 7,
   "metadata": {},
   "outputs": [
    {
     "data": {
      "text/plain": [
       "'fad'"
      ]
     },
     "execution_count": 7,
     "metadata": {},
     "output_type": "execute_result"
    }
   ],
   "source": [
    "def remove_index(s, start, end):\n",
    "    if len(s) > end:\n",
    "        s = s[0:start] + s[end+1 ::]\n",
    "    return s\n",
    "\n",
    "remove_index('farhad',1,3)"
   ]
  },
  {
   "cell_type": "code",
   "execution_count": 28,
   "metadata": {},
   "outputs": [],
   "source": [
    "txt = \"Python is an interpreted language\"\n",
    "\n",
    "\n",
    "def greatest_word(txt:str):\n",
    "    \n",
    "    words = txt.split(\" \")\n",
    "    wc = {}\n",
    "    for i in words:\n",
    "        wc[i] = len(i) \n",
    "    \n",
    "    return max(wc, key=wc.get)\n",
    "\n",
    "\n",
    "\n",
    "def greatest_word2(txt:str):\n",
    "    words = txt.split(\" \")\n",
    "    wc = {}\n",
    "    for i in words:\n",
    "        wc[i] = len(i) \n",
    "        \n",
    "    max_word = [k for k, v in wc.items() if v == max(wc.values())]\n",
    "    return max_word"
   ]
  },
  {
   "cell_type": "code",
   "execution_count": 29,
   "metadata": {},
   "outputs": [
    {
     "data": {
      "text/plain": [
       "'interpreted'"
      ]
     },
     "execution_count": 29,
     "metadata": {},
     "output_type": "execute_result"
    }
   ],
   "source": [
    "greatest_word(txt)"
   ]
  },
  {
   "cell_type": "code",
   "execution_count": 30,
   "metadata": {},
   "outputs": [
    {
     "data": {
      "text/plain": [
       "['interpreted']"
      ]
     },
     "execution_count": 30,
     "metadata": {},
     "output_type": "execute_result"
    }
   ],
   "source": [
    "greatest_word2(txt)"
   ]
  },
  {
   "cell_type": "code",
   "execution_count": 36,
   "metadata": {},
   "outputs": [],
   "source": [
    "def pascal(n):\n",
    "    x = [1]\n",
    "    y = [0]\n",
    "    for i in range(max(n,0)):\n",
    "        print(x)\n",
    "        x = [i + j for i, j in zip(x+y, y+x) ]\n",
    "    \n",
    "    "
   ]
  },
  {
   "cell_type": "code",
   "execution_count": 39,
   "metadata": {},
   "outputs": [
    {
     "name": "stdout",
     "output_type": "stream",
     "text": [
      "[1]\n",
      "[1, 1]\n",
      "[1, 2, 1]\n",
      "[1, 3, 3, 1]\n",
      "[1, 4, 6, 4, 1]\n",
      "[1, 5, 10, 10, 5, 1]\n",
      "[1, 6, 15, 20, 15, 6, 1]\n",
      "[1, 7, 21, 35, 35, 21, 7, 1]\n",
      "[1, 8, 28, 56, 70, 56, 28, 8, 1]\n",
      "[1, 9, 36, 84, 126, 126, 84, 36, 9, 1]\n"
     ]
    }
   ],
   "source": [
    "pascal(10)"
   ]
  },
  {
   "cell_type": "code",
   "execution_count": 60,
   "metadata": {},
   "outputs": [],
   "source": [
    "st = 'farhad sara alex sara'\n",
    "\n",
    "def first_duplicate_word(st:txt):\n",
    "    my_set = set()\n",
    "    w = st.split(\" \")\n",
    "    for i in w:\n",
    "        if i in my_set:\n",
    "            return i\n",
    "        else:\n",
    "            my_set.add(i)\n",
    "    return \"None\""
   ]
  },
  {
   "cell_type": "code",
   "execution_count": 61,
   "metadata": {},
   "outputs": [
    {
     "data": {
      "text/plain": [
       "'sara'"
      ]
     },
     "execution_count": 61,
     "metadata": {},
     "output_type": "execute_result"
    }
   ],
   "source": [
    "first_duplicate_word(st)"
   ]
  },
  {
   "cell_type": "code",
   "execution_count": 96,
   "metadata": {},
   "outputs": [
    {
     "data": {
      "text/plain": [
       "[2, 3, 5, 7]"
      ]
     },
     "execution_count": 96,
     "metadata": {},
     "output_type": "execute_result"
    }
   ],
   "source": [
    "n = 10\n",
    "\n",
    "def prime(n:int):\n",
    "    ls = []\n",
    "    my_set = set()\n",
    "    for i in range(2,n+1):\n",
    "        if i in my_set:\n",
    "            continue\n",
    "        for j in range(i*2, n+1, i):\n",
    "            my_set.add(j)       # {4,6,8,10,9}\n",
    "        ls.append(i)            # [2,3,5,7]\n",
    "\n",
    "    return(ls)\n",
    "\n",
    "prime(n) #[2, 3, 5, 7]"
   ]
  },
  {
   "cell_type": "code",
   "execution_count": 103,
   "metadata": {},
   "outputs": [],
   "source": [
    "def magic_matrix(m):\n",
    "    n = len(m[0])\n",
    "    lst = []\n",
    "    \n",
    "    # Rows\n",
    "    lst.extend([sum(row) for row in m])\n",
    "    \n",
    "    # Cols\n",
    "    for col in range(n):\n",
    "        lst.append(sum (row[col] for row in m) )\n",
    "        \n",
    "    # main\n",
    "    r = 0\n",
    "    for i in range(0, n):\n",
    "        r += m[i][i]\n",
    "    \n",
    "    lst.append(r)\n",
    "     \n",
    "    #sub\n",
    "    r2 = 0\n",
    "    for i in range(0,n):\n",
    "        r2 += m[i][n-1-i]\n",
    "         \n",
    "    lst.append(r2)\n",
    "    \n",
    "    print(lst)\n",
    "    \n",
    "    if len(set(lst)) > 1:\n",
    "        return False\n",
    "    return True"
   ]
  },
  {
   "cell_type": "code",
   "execution_count": 104,
   "metadata": {},
   "outputs": [
    {
     "name": "stdout",
     "output_type": "stream",
     "text": [
      "[15, 15, 15, 15, 15, 15, 15, 15]\n"
     ]
    },
    {
     "data": {
      "text/plain": [
       "True"
      ]
     },
     "execution_count": 104,
     "metadata": {},
     "output_type": "execute_result"
    }
   ],
   "source": [
    "m = [\n",
    "    [2,7,6],\n",
    "    [9,5,1],\n",
    "    [4,3,8]\n",
    "]\n",
    "\n",
    "\n",
    "magic_matrix(m)"
   ]
  },
  {
   "cell_type": "code",
   "execution_count": 109,
   "metadata": {},
   "outputs": [
    {
     "data": {
      "text/plain": [
       "'Hello Farhad'"
      ]
     },
     "execution_count": 109,
     "metadata": {},
     "output_type": "execute_result"
    }
   ],
   "source": [
    "def hello_name(name: str) -> str :\n",
    "    '''\n",
    "    for testing annotation\n",
    "    '''\n",
    "    return 'Hello ' + name\n",
    "\n",
    "hello_name('Farhad')"
   ]
  },
  {
   "cell_type": "code",
   "execution_count": 110,
   "metadata": {},
   "outputs": [
    {
     "data": {
      "text/plain": [
       "{'name': str, 'return': str}"
      ]
     },
     "execution_count": 110,
     "metadata": {},
     "output_type": "execute_result"
    }
   ],
   "source": [
    "hello_name.__annotations__"
   ]
  },
  {
   "cell_type": "code",
   "execution_count": 111,
   "metadata": {},
   "outputs": [
    {
     "data": {
      "text/plain": [
       "'\\n    for testing annotation\\n    '"
      ]
     },
     "execution_count": 111,
     "metadata": {},
     "output_type": "execute_result"
    }
   ],
   "source": [
    "hello_name.__doc__"
   ]
  }
  
 ],
 "metadata": {
  "kernelspec": {
   "display_name": "base",
   "language": "python",
   "name": "python3"
  },
  "language_info": {
   "codemirror_mode": {
    "name": "ipython",
    "version": 3
   },
   "file_extension": ".py",
   "mimetype": "text/x-python",
   "name": "python",
   "nbconvert_exporter": "python",
   "pygments_lexer": "ipython3",
   "version": "3.8.5"
  },
  "orig_nbformat": 4
 },
 "nbformat": 4,
 "nbformat_minor": 2
}