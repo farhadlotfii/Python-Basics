{
 "cells": [
  {
   "cell_type": "code",
   "execution_count": 12,
   "metadata": {},
   "outputs": [],
   "source": [
    "# create file and write\n",
    "w = open('myfile.txt', 'w')"
   ]
  },
  {
   "cell_type": "code",
   "execution_count": 15,
   "metadata": {},
   "outputs": [],
   "source": [
    "# apen file and read\n",
    "r = open('myfile.txt', 'r')"
   ]
  },
  {
   "cell_type": "code",
   "execution_count": 16,
   "metadata": {},
   "outputs": [
    {
     "data": {
      "text/plain": [
       "['for test']"
      ]
     },
     "execution_count": 16,
     "metadata": {},
     "output_type": "execute_result"
    }
   ],
   "source": [
    "list(r)"
   ]
  },
  {
   "cell_type": "code",
   "execution_count": 21,
   "metadata": {},
   "outputs": [
    {
     "name": "stdout",
     "output_type": "stream",
     "text": [
      "Error\n"
     ]
    }
   ],
   "source": [
    "try:\n",
    "    r = open('test.txt', 'r')\n",
    "except FileNotFoundError:\n",
    "    print('Error')"
   ]
  },
  {
   "cell_type": "code",
   "execution_count": 65,
   "metadata": {},
   "outputs": [
    {
     "name": "stdout",
     "output_type": "stream",
     "text": [
      "myfile.txt\n",
      "w\n"
     ]
    },
    {
     "data": {
      "text/plain": [
       "['Hello Farhad\\n', 'This is for test\\n', '24']"
      ]
     },
     "execution_count": 65,
     "metadata": {},
     "output_type": "execute_result"
    }
   ],
   "source": [
    "w = open('myfile.txt', 'w')\n",
    "line1 = 'Hello Farhad\\n'\n",
    "line2 = 'This is for test\\n'\n",
    "line3 = 24\n",
    "\n",
    "w.write(line1)\n",
    "w.write(line2)\n",
    "w.write(str(line3))\n",
    "\n",
    "print(w.name) # file name\n",
    "print(w.mode) # mode : write\n",
    "\n",
    "w.close()\n",
    "\n",
    "r = open('myfile.txt', 'r')\n",
    "list(r)"
   ]
  },
  {
   "cell_type": "code",
   "execution_count": 62,
   "metadata": {},
   "outputs": [],
   "source": [
    "# The good thing about this command is that \n",
    "# when the work with the file or database is finished,\n",
    "# it closes the connection or file by itself, \n",
    "# and there is no need to write the close command.\n",
    "\n",
    "with open('myfile.txt', 'w') as file:\n",
    "    line1 = 'Hello Farhad\\n'\n",
    "    line2 = 'This isssss for test\\n'\n",
    "    line3 = 24\n",
    "\n",
    "    file.write(line1)\n",
    "    file.write(line2)\n",
    "    file.write(str(line3))"
   ]
  },
  {
   "cell_type": "code",
   "execution_count": 44,
   "metadata": {},
   "outputs": [
    {
     "name": "stdout",
     "output_type": "stream",
     "text": [
      "Hello Farhad\n",
      "This isssss for test\n",
      "24\n"
     ]
    }
   ],
   "source": [
    "with open('myfile.txt', 'r') as file:\n",
    "    print(file.read())"
   ]
  },
  {
   "cell_type": "code",
   "execution_count": 45,
   "metadata": {},
   "outputs": [
    {
     "name": "stdout",
     "output_type": "stream",
     "text": [
      "['Hello Farhad\\n', 'This isssss for test\\n', '24']\n"
     ]
    }
   ],
   "source": [
    "with open('myfile.txt', 'r') as file:\n",
    "    print(file.readlines())"
   ]
  },
  {
   "cell_type": "code",
   "execution_count": 52,
   "metadata": {},
   "outputs": [
    {
     "name": "stdout",
     "output_type": "stream",
     "text": [
      "Hell\n",
      "o Farhad\n"
     ]
    }
   ],
   "source": [
    "with open('myfile.txt', 'r') as file:\n",
    "    print(file.read(4))\n",
    "    print(file.read(8))"
   ]
  },
  {
   "cell_type": "code",
   "execution_count": 55,
   "metadata": {},
   "outputs": [
    {
     "name": "stdout",
     "output_type": "stream",
     "text": [
      "Hello Farhad\n",
      "This isssss for test\n",
      "24"
     ]
    }
   ],
   "source": [
    "with open('myfile.txt', 'r') as file:\n",
    "    for line in file:\n",
    "        print(line, end='')"
   ]
  },
  {
   "cell_type": "code",
   "execution_count": 63,
   "metadata": {},
   "outputs": [],
   "source": [
    "import os"
   ]
  },
  {
   "cell_type": "code",
   "execution_count": 70,
   "metadata": {},
   "outputs": [
    {
     "name": "stdout",
     "output_type": "stream",
     "text": [
      "True\n"
     ]
    },
    {
     "ename": "PermissionError",
     "evalue": "[WinError 32] The process cannot access the file because it is being used by another process: 'myfile.txt'",
     "output_type": "error",
     "traceback": [
      "\u001b[1;31m---------------------------------------------------------------------------\u001b[0m",
      "\u001b[1;31mPermissionError\u001b[0m                           Traceback (most recent call last)",
      "\u001b[1;32m<ipython-input-70-ac3b091ff065>\u001b[0m in \u001b[0;36m<module>\u001b[1;34m\u001b[0m\n\u001b[0;32m      1\u001b[0m \u001b[0mp\u001b[0m \u001b[1;33m=\u001b[0m \u001b[1;34m'myfile.txt'\u001b[0m\u001b[1;33m\u001b[0m\u001b[1;33m\u001b[0m\u001b[0m\n\u001b[0;32m      2\u001b[0m \u001b[0mprint\u001b[0m\u001b[1;33m(\u001b[0m\u001b[0mos\u001b[0m\u001b[1;33m.\u001b[0m\u001b[0mpath\u001b[0m\u001b[1;33m.\u001b[0m\u001b[0mexists\u001b[0m\u001b[1;33m(\u001b[0m\u001b[0mp\u001b[0m\u001b[1;33m)\u001b[0m\u001b[1;33m)\u001b[0m\u001b[1;33m\u001b[0m\u001b[1;33m\u001b[0m\u001b[0m\n\u001b[1;32m----> 3\u001b[1;33m \u001b[0mos\u001b[0m\u001b[1;33m.\u001b[0m\u001b[0mremove\u001b[0m\u001b[1;33m(\u001b[0m\u001b[0mp\u001b[0m\u001b[1;33m)\u001b[0m\u001b[1;33m\u001b[0m\u001b[1;33m\u001b[0m\u001b[0m\n\u001b[0m",
      "\u001b[1;31mPermissionError\u001b[0m: [WinError 32] The process cannot access the file because it is being used by another process: 'myfile.txt'"
     ]
    }
   ],
   "source": [
    "p = 'myfile.txt'\n",
    "print(os.path.exists(p))\n",
    "os.remove(p)"
   ]
  },
  {
   "cell_type": "code",
   "execution_count": 71,
   "metadata": {},
   "outputs": [],
   "source": [
    "# Writing a file from another file\n",
    "\n",
    "name1 = 'myfile.txt'\n",
    "name2 = 'myfile2.txt'\n",
    "\n",
    "with open(name1, 'r') as f1, open(name2, 'w') as f2:\n",
    "    for line in f1:\n",
    "        f2.write(line)"
   ]
  },
  {
   "cell_type": "code",
   "execution_count": 75,
   "metadata": {},
   "outputs": [],
   "source": [
    "# Merge two files into one file\n",
    "\n",
    "name1 = 'x.txt'\n",
    "name2 = 'y.txt'\n",
    "name3 = 'z.txt'\n",
    "\n",
    "with open(name1, 'w') as f1:\n",
    "    f1.write('farhad\\n')\n",
    "    f1.write('mojdeh\\n')\n",
    "    \n",
    "with open(name2, 'w') as f2:\n",
    "    f2.write('mahsa\\n')\n",
    "    f2.write('sara\\n') \n",
    " \n",
    " \n",
    "with open(name1, 'r') as f1, open(name2, 'r') as f2: \n",
    "    data1 = f1.read()\n",
    "    data2 = f2.read()\n",
    "    \n",
    "with open(name3, 'w') as f3:\n",
    "    f3.write(data1 + data2)"
   ]
  },
  {
   "cell_type": "code",
   "execution_count": 17,
   "metadata": {},
   "outputs": [],
   "source": [
    "lst = ['y', 'n', 'y', 'n', 'n', 'y', 'y', 'y']\n",
    "\n",
    "name = 'answers.txt'\n",
    "\n",
    "with open(name, 'w') as f:\n",
    "    for i in lst:\n",
    "         f.write(i + '\\n')"
   ]
  },
  {
   "cell_type": "code",
   "execution_count": 18,
   "metadata": {},
   "outputs": [
    {
     "name": "stdout",
     "output_type": "stream",
     "text": [
      "5\n",
      "3\n"
     ]
    }
   ],
   "source": [
    "y = 0\n",
    "n = 0\n",
    "\n",
    "with open(name, 'r') as f:\n",
    "    lines = f.readlines()\n",
    "    for i in lines:\n",
    "        x = i.strip()\n",
    "        if x == 'y':\n",
    "            y += 1\n",
    "        else:\n",
    "            n += 1\n",
    "\n",
    "print(y)\n",
    "print(n)"
   ]
  },
  {
   "cell_type": "code",
   "execution_count": 19,
   "metadata": {},
   "outputs": [
    {
     "data": {
      "text/plain": [
       "{'y': 5, 'n': 3}"
      ]
     },
     "execution_count": 19,
     "metadata": {},
     "output_type": "execute_result"
    }
   ],
   "source": [
    "# count words in files\n",
    "\n",
    "d = {}\n",
    "\n",
    "with open(name, 'r') as f:\n",
    "    for line in f:\n",
    "        w = line.strip()\n",
    "        for i in w:\n",
    "            d[i] = d.get(i, 0) + 1\n",
    "            \n",
    "d"
   ]
  },
  {
   "cell_type": "code",
   "execution_count": 20,
   "metadata": {},
   "outputs": [],
   "source": [
    "# count lines in files\n",
    "\n",
    "def count(filename):\n",
    "    try:\n",
    "        with open(filename, 'r') as f:\n",
    "            x = f.read()\n",
    "            \n",
    "    except FileNotFoundError as e:\n",
    "        print(e)\n",
    "        \n",
    "    else:\n",
    "        c = len(x.split())\n",
    "        print(f'{filename} : {c}')"
   ]
  },
  {
   "cell_type": "code",
   "execution_count": 21,
   "metadata": {},
   "outputs": [
    {
     "name": "stdout",
     "output_type": "stream",
     "text": [
      "z.txt : 4\n"
     ]
    }
   ],
   "source": [
    "count('z.txt')"
   ]
  },
  {
   "cell_type": "code",
   "execution_count": 22,
   "metadata": {},
   "outputs": [
    {
     "name": "stdout",
     "output_type": "stream",
     "text": [
      "[Errno 2] No such file or directory: 'd.txt'\n"
     ]
    }
   ],
   "source": [
    "count('d.txt')"
   ]
  },
  {
   "cell_type": "code",
   "execution_count": 23,
   "metadata": {},
   "outputs": [
    {
     "name": "stdout",
     "output_type": "stream",
     "text": [
      "0\n",
      "F\n",
      "3\n",
      "H\n"
     ]
    }
   ],
   "source": [
    "# tell and seek\n",
    "\n",
    "with open('tellseek.txt', 'w') as f:\n",
    "    f.write('FARHAD')\n",
    "    \n",
    "with open('tellseek.txt') as mf:\n",
    "    print(mf.tell())\n",
    "    print(mf.read(1))\n",
    "    \n",
    "    mf.seek(3)\n",
    "    print(mf.tell())\n",
    "    print(mf.read(1))"
   ]
  },
  {
   "cell_type": "code",
   "execution_count": 2,
   "metadata": {},
   "outputs": [
    {
     "name": "stdout",
     "output_type": "stream",
     "text": [
      "{\n",
      "    \"key1\"=\"value1\";\n",
      "    \"key2\"=\"value2\"\n",
      "}\n"
     ]
    }
   ],
   "source": [
    "import json\n",
    "\n",
    "\n",
    "d = {'key1' : 'value1', 'key2' : 'value2'}\n",
    "js = json.dumps(d, indent=4, separators=(';','='))\n",
    "print(js)"
   ]
  },
  {
   "cell_type": "code",
   "execution_count": 30,
   "metadata": {},
   "outputs": [
    {
     "name": "stdout",
     "output_type": "stream",
     "text": [
      "{'key1': 'value1', 'key2': 'value2'}\n"
     ]
    }
   ],
   "source": [
    "with open('jsontest.json', 'w') as f:\n",
    "    json.dump(d, f)\n",
    "    \n",
    "with open('jsontest.json', 'r') as f:\n",
    "    print(json.load(f))"
   ]
  },
  {
   "cell_type": "code",
   "execution_count": 4,
   "metadata": {},
   "outputs": [
    {
     "name": "stdout",
     "output_type": "stream",
     "text": [
      "{'key1': 'value1', 'key2': 'value2'}\n"
     ]
    }
   ],
   "source": [
    "import pickle\n",
    "\n",
    "with open('jsontest.json', 'wb') as f:\n",
    "    pickle.dump(d, f)\n",
    "    \n",
    "with open('jsontest.json', 'rb') as f:\n",
    "    print(pickle.load(f))"
   ]
  },
  {
   "cell_type": "code",
   "execution_count": 16,
   "metadata": {},
   "outputs": [
    {
     "name": "stdout",
     "output_type": "stream",
     "text": [
      "Name   Score\n",
      "Farhad   18\n",
      "Mojdeh   17\n",
      "Reza   15\n"
     ]
    }
   ],
   "source": [
    "import csv\n",
    "\n",
    "col = ['Name', 'Score']\n",
    "r1 = ['Farhad', 18]\n",
    "r2 = ['Mojdeh', 17]\n",
    "r3 = ['Reza', 15]\n",
    "\n",
    "with open('scors.csv', 'w', newline='\\n') as f:\n",
    "    w = csv.writer(f)\n",
    "    w.writerow(col)\n",
    "    w.writerows([r1, r2, r3])\n",
    "    \n",
    "    \n",
    "with open('scors.csv', 'r') as f:\n",
    "    r = csv.reader(f)\n",
    "    for i in r:\n",
    "        print('   '.join(i))"
   ]
  },
  {
   "cell_type": "code",
   "execution_count": 18,
   "metadata": {},
   "outputs": [
    {
     "data": {
      "text/html": [
       "<div>\n",
       "<style scoped>\n",
       "    .dataframe tbody tr th:only-of-type {\n",
       "        vertical-align: middle;\n",
       "    }\n",
       "\n",
       "    .dataframe tbody tr th {\n",
       "        vertical-align: top;\n",
       "    }\n",
       "\n",
       "    .dataframe thead th {\n",
       "        text-align: right;\n",
       "    }\n",
       "</style>\n",
       "<table border=\"1\" class=\"dataframe\">\n",
       "  <thead>\n",
       "    <tr style=\"text-align: right;\">\n",
       "      <th></th>\n",
       "      <th>Name</th>\n",
       "      <th>Score</th>\n",
       "    </tr>\n",
       "  </thead>\n",
       "  <tbody>\n",
       "    <tr>\n",
       "      <th>0</th>\n",
       "      <td>Farhad</td>\n",
       "      <td>18</td>\n",
       "    </tr>\n",
       "    <tr>\n",
       "      <th>1</th>\n",
       "      <td>Mojdeh</td>\n",
       "      <td>17</td>\n",
       "    </tr>\n",
       "    <tr>\n",
       "      <th>2</th>\n",
       "      <td>Reza</td>\n",
       "      <td>15</td>\n",
       "    </tr>\n",
       "  </tbody>\n",
       "</table>\n",
       "</div>"
      ],
      "text/plain": [
       "     Name  Score\n",
       "0  Farhad     18\n",
       "1  Mojdeh     17\n",
       "2    Reza     15"
      ]
     },
     "execution_count": 18,
     "metadata": {},
     "output_type": "execute_result"
    }
   ],
   "source": [
    "import pandas as pd\n",
    "data = pd.read_csv('scors.csv')\n",
    "data"
   ]
  },
  {
   "cell_type": "code",
   "execution_count": 19,
   "metadata": {},
   "outputs": [],
   "source": [
    "data.to_csv('scors.csv', sep=',', index=False)"
   ]
  },
  {
   "cell_type": "code",
   "execution_count": 22,
   "metadata": {},
   "outputs": [
    {
     "name": "stdout",
     "output_type": "stream",
     "text": [
      "['answers.txt', 'myfile.txt', 'myfile2.txt', 'tellseek.txt', 'x.txt', 'y.txt', 'z.txt']\n"
     ]
    }
   ],
   "source": [
    "import glob\n",
    "print(glob.glob('*.txt'))"
   ]
  },
  {
   "cell_type": "code",
   "execution_count": null,
   "metadata": {},
   "outputs": [],
   "source": []
  }
 ],
 "metadata": {
  "kernelspec": {
   "display_name": "base",
   "language": "python",
   "name": "python3"
  },
  "language_info": {
   "codemirror_mode": {
    "name": "ipython",
    "version": 3
   },
   "file_extension": ".py",
   "mimetype": "text/x-python",
   "name": "python",
   "nbconvert_exporter": "python",
   "pygments_lexer": "ipython3",
   "version": "3.8.5"
  },
  "orig_nbformat": 4,
  "vscode": {
   "interpreter": {
    "hash": "f4255f50b02773c0af0ebbfade993ade5cc03e54a7772ee7915f818a4d590be0"
   }
  }
 },
 "nbformat": 4,
 "nbformat_minor": 2
}
